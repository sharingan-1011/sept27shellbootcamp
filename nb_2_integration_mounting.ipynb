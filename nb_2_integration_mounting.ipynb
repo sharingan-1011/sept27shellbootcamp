{
  "cells": [
    {
      "cell_type": "code",
      "execution_count": null,
      "metadata": {
        "application/vnd.databricks.v1+cell": {
          "cellMetadata": {
            "byteLimit": 2048000,
            "rowLimit": 10000
          },
          "inputWidgets": {},
          "nuid": "29e5093e-f26a-4576-8a1a-c104dee87d7a",
          "showTitle": false,
          "title": ""
        },
        "id": "rSZyaDj58eMu",
        "outputId": "4f0b26f6-c8bc-4afd-8838-aaa938fc24d4"
      },
      "outputs": [
        {
          "output_type": "display_data",
          "data": {
            "text/html": [
              "<div class = \"ansiout\">\n",
              "This module provides various utilities for users to interact with the rest of Databricks.\n",
              "  <h3></h3><b>credentials: DatabricksCredentialUtils</b> -> Utilities for interacting with credentials within notebooks<br /><b>data: DataUtils</b> -> Utilities for understanding and interacting with datasets (EXPERIMENTAL)<br /><b>fs: DbfsUtils</b> -> Manipulates the Databricks filesystem (DBFS) from the console<br /><b>jobs: JobsUtils</b> -> Utilities for leveraging jobs features<br /><b>library: LibraryUtils</b> -> Utilities for session isolated libraries<br /><b>meta: MetaUtils</b> -> Methods to hook into the compiler (EXPERIMENTAL)<br /><b>notebook: NotebookUtils</b> -> Utilities for the control flow of a notebook (EXPERIMENTAL)<br /><b>preview: Preview</b> -> Utilities under preview category<br /><b>secrets: SecretUtils</b> -> Provides utilities for leveraging secrets within notebooks<br /><b>widgets: WidgetsUtils</b> -> Methods to create and get bound value of input widgets inside notebooks<br /><br /></div>"
            ]
          },
          "metadata": {}
        }
      ],
      "source": [
        "dbutils.help()"
      ]
    },
    {
      "cell_type": "code",
      "execution_count": null,
      "metadata": {
        "application/vnd.databricks.v1+cell": {
          "cellMetadata": {
            "byteLimit": 2048000,
            "rowLimit": 10000
          },
          "inputWidgets": {},
          "nuid": "b3ab9c32-cf78-4c5b-a10d-71d1409f3bc3",
          "showTitle": false,
          "title": ""
        },
        "id": "dL9clIiO8eMx"
      },
      "outputs": [],
      "source": [
        "container_name = \"input1\"\n",
        "storage_account_name = \"sa27septsagar\"\n",
        "access_key = \"UMwJikmWBJMaR7qa6YX5WI3ln3JceTgtPhPpGHe77dZ3v8hDZNqqRzF/oVzk9vcu6wLQRFoRtK80+AStd9MyFA==\"\n",
        "mount_source  = f\"wasbs://{container_name}@{storage_account_name}.blob.core.windows.net\"\n",
        "strmountpoint = \"/mnt/mp1\"\n",
        "strkey =f\"fs.azure.account.key.{storage_account_name}.blob.core.windows.net\"\n",
        "strValue = f\"{access_key}\"\n",
        "\n"
      ]
    },
    {
      "cell_type": "code",
      "execution_count": null,
      "metadata": {
        "application/vnd.databricks.v1+cell": {
          "cellMetadata": {
            "byteLimit": 2048000,
            "rowLimit": 10000
          },
          "inputWidgets": {},
          "nuid": "3a68104e-5f8a-4c51-ab7d-48bb3b79d8fd",
          "showTitle": false,
          "title": ""
        },
        "id": "UGVgmZ0-8eMx"
      },
      "outputs": [],
      "source": [
        "result = dbutils.fs.mount(\n",
        "    source = mount_source,\n",
        "    mount_point = strmountpoint,\n",
        "    extra_configs={strkey:strValue}\n",
        ")"
      ]
    },
    {
      "cell_type": "code",
      "execution_count": null,
      "metadata": {
        "application/vnd.databricks.v1+cell": {
          "cellMetadata": {
            "byteLimit": 2048000,
            "rowLimit": 10000
          },
          "inputWidgets": {},
          "nuid": "b899e10a-21f5-4b74-8e72-ff18345fabb8",
          "showTitle": false,
          "title": ""
        },
        "id": "oo7RdJTB8eMy",
        "outputId": "f5c24e2d-e65e-4550-b0dc-0eeed2d61fe4"
      },
      "outputs": [
        {
          "output_type": "display_data",
          "data": {
            "text/html": [
              "<style scoped>\n",
              "  .table-result-container {\n",
              "    max-height: 300px;\n",
              "    overflow: auto;\n",
              "  }\n",
              "  table, th, td {\n",
              "    border: 1px solid black;\n",
              "    border-collapse: collapse;\n",
              "  }\n",
              "  th, td {\n",
              "    padding: 5px;\n",
              "  }\n",
              "  th {\n",
              "    text-align: left;\n",
              "  }\n",
              "</style><div class='table-result-container'><table class='table-result'><thead style='background-color: white'><tr><th>path</th><th>name</th><th>size</th><th>modificationTime</th></tr></thead><tbody><tr><td>dbfs:/mnt/mp1/movies.csv</td><td>movies.csv</td><td>5073</td><td>1695794972000</td></tr></tbody></table></div>"
            ]
          },
          "metadata": {
            "application/vnd.databricks.v1+output": {
              "addedWidgets": {},
              "aggData": [],
              "aggError": "",
              "aggOverflow": false,
              "aggSchema": [],
              "aggSeriesLimitReached": false,
              "aggType": "",
              "arguments": {},
              "columnCustomDisplayInfos": {},
              "data": [
                [
                  "dbfs:/mnt/mp1/movies.csv",
                  "movies.csv",
                  5073,
                  1695794972000
                ]
              ],
              "datasetInfos": [],
              "dbfsResultPath": null,
              "isJsonSchema": true,
              "metadata": {
                "isDbfsCommandResult": false
              },
              "overflow": false,
              "plotOptions": {
                "customPlotOptions": {},
                "displayType": "table",
                "pivotAggregation": null,
                "pivotColumns": null,
                "xColumns": null,
                "yColumns": null
              },
              "removedWidgets": [],
              "schema": [
                {
                  "metadata": "{}",
                  "name": "path",
                  "type": "\"string\""
                },
                {
                  "metadata": "{}",
                  "name": "name",
                  "type": "\"string\""
                },
                {
                  "metadata": "{}",
                  "name": "size",
                  "type": "\"long\""
                },
                {
                  "metadata": "{}",
                  "name": "modificationTime",
                  "type": "\"long\""
                }
              ],
              "type": "table"
            }
          }
        }
      ],
      "source": [
        "%fs ls /mnt/mp1/"
      ]
    },
    {
      "cell_type": "code",
      "execution_count": null,
      "metadata": {
        "application/vnd.databricks.v1+cell": {
          "cellMetadata": {
            "byteLimit": 2048000,
            "rowLimit": 10000
          },
          "inputWidgets": {},
          "nuid": "b269d96f-10ba-4903-b281-ba065ba727e2",
          "showTitle": false,
          "title": ""
        },
        "id": "huzervQD8eMy"
      },
      "outputs": [],
      "source": [
        "\n",
        "\n",
        "container_name = \"gen2input\"\n",
        "\n",
        "storage_account_name = \"sa27septgen2\"\n",
        "\n",
        "access_key = \"BCDlCJzKzyS2Lf/nHmRK+Qcou9rnuoxRGoIShyAGtOPp6/3ogHL5xONh8QWJngQcI+IxemaOap2f+AStSJDHxA==\"\n",
        "\n",
        "mount_source  = f\"wasbs://{container_name}@{storage_account_name}.blob.core.windows.net\"\n",
        "\n",
        "strmountpoint = \"/mnt/mp2\"\n",
        "\n",
        "strkey =f\"fs.azure.account.key.{storage_account_name}.blob.core.windows.net\"\n",
        "\n",
        "strValue = f\"{access_key}\""
      ]
    },
    {
      "cell_type": "code",
      "execution_count": null,
      "metadata": {
        "application/vnd.databricks.v1+cell": {
          "cellMetadata": {
            "byteLimit": 2048000,
            "rowLimit": 10000
          },
          "inputWidgets": {},
          "nuid": "6fa583a5-89ac-4d39-93ec-192cdcdd475e",
          "showTitle": false,
          "title": ""
        },
        "id": "walP2cuk8eMy"
      },
      "outputs": [],
      "source": [
        "result = dbutils.fs.mount(\n",
        "\n",
        "    source = mount_source,\n",
        "\n",
        "    mount_point = strmountpoint,\n",
        "\n",
        "    extra_configs={strkey:strValue}\n",
        "\n",
        ")"
      ]
    },
    {
      "cell_type": "code",
      "execution_count": null,
      "metadata": {
        "application/vnd.databricks.v1+cell": {
          "cellMetadata": {
            "byteLimit": 2048000,
            "rowLimit": 10000
          },
          "inputWidgets": {},
          "nuid": "f4029376-b6ac-40ae-bbe2-3de4e693c5c9",
          "showTitle": false,
          "title": ""
        },
        "id": "zf4lt-hU8eMz",
        "outputId": "a8aaac20-24df-470c-e887-c825cffd157f"
      },
      "outputs": [
        {
          "output_type": "display_data",
          "data": {
            "text/html": [
              "<style scoped>\n",
              "  .table-result-container {\n",
              "    max-height: 300px;\n",
              "    overflow: auto;\n",
              "  }\n",
              "  table, th, td {\n",
              "    border: 1px solid black;\n",
              "    border-collapse: collapse;\n",
              "  }\n",
              "  th, td {\n",
              "    padding: 5px;\n",
              "  }\n",
              "  th {\n",
              "    text-align: left;\n",
              "  }\n",
              "</style><div class='table-result-container'><table class='table-result'><thead style='background-color: white'><tr><th>path</th><th>name</th><th>size</th><th>modificationTime</th></tr></thead><tbody><tr><td>dbfs:/mnt/mp2/Drilling_Dataset.csv</td><td>Drilling_Dataset.csv</td><td>746</td><td>1695796843000</td></tr><tr><td>dbfs:/mnt/mp2/temp.csv</td><td>temp.csv</td><td>194</td><td>1695796843000</td></tr><tr><td>dbfs:/mnt/mp2/train (1).csv</td><td>train (1).csv</td><td>1000083</td><td>1695796845000</td></tr></tbody></table></div>"
            ]
          },
          "metadata": {
            "application/vnd.databricks.v1+output": {
              "addedWidgets": {},
              "aggData": [],
              "aggError": "",
              "aggOverflow": false,
              "aggSchema": [],
              "aggSeriesLimitReached": false,
              "aggType": "",
              "arguments": {},
              "columnCustomDisplayInfos": {},
              "data": [
                [
                  "dbfs:/mnt/mp2/Drilling_Dataset.csv",
                  "Drilling_Dataset.csv",
                  746,
                  1695796843000
                ],
                [
                  "dbfs:/mnt/mp2/temp.csv",
                  "temp.csv",
                  194,
                  1695796843000
                ],
                [
                  "dbfs:/mnt/mp2/train (1).csv",
                  "train (1).csv",
                  1000083,
                  1695796845000
                ]
              ],
              "datasetInfos": [],
              "dbfsResultPath": null,
              "isJsonSchema": true,
              "metadata": {
                "isDbfsCommandResult": false
              },
              "overflow": false,
              "plotOptions": {
                "customPlotOptions": {},
                "displayType": "table",
                "pivotAggregation": null,
                "pivotColumns": null,
                "xColumns": null,
                "yColumns": null
              },
              "removedWidgets": [],
              "schema": [
                {
                  "metadata": "{}",
                  "name": "path",
                  "type": "\"string\""
                },
                {
                  "metadata": "{}",
                  "name": "name",
                  "type": "\"string\""
                },
                {
                  "metadata": "{}",
                  "name": "size",
                  "type": "\"long\""
                },
                {
                  "metadata": "{}",
                  "name": "modificationTime",
                  "type": "\"long\""
                }
              ],
              "type": "table"
            }
          }
        }
      ],
      "source": [
        "%fs ls /mnt/mp2/"
      ]
    },
    {
      "cell_type": "code",
      "execution_count": null,
      "metadata": {
        "application/vnd.databricks.v1+cell": {
          "cellMetadata": {},
          "inputWidgets": {},
          "nuid": "671f3f49-89e4-4d87-a8a4-6d6ddaf6aa5f",
          "showTitle": false,
          "title": ""
        },
        "id": "CxdKAWI08eMz"
      },
      "outputs": [],
      "source": []
    }
  ],
  "metadata": {
    "application/vnd.databricks.v1+notebook": {
      "dashboards": [],
      "language": "python",
      "notebookMetadata": {
        "mostRecentlyExecutedCommandWithImplicitDF": {
          "commandId": 590757207234706,
          "dataframes": [
            "_sqldf"
          ]
        },
        "pythonIndentUnit": 4
      },
      "notebookName": "nb-2 integration mounting",
      "widgets": {}
    },
    "colab": {
      "provenance": []
    }
  },
  "nbformat": 4,
  "nbformat_minor": 0
}